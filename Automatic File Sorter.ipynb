{
 "cells": [
  {
   "cell_type": "markdown",
   "id": "7c1a9435",
   "metadata": {},
   "source": [
    "# Automatic File Sorter in File Explorer"
   ]
  },
  {
   "cell_type": "code",
   "execution_count": 2,
   "id": "f9bef186",
   "metadata": {},
   "outputs": [],
   "source": [
    "#os - operating system.\n",
    "#shutil - it helps to move the files in the particular folder.\n",
    "\n",
    "import os, shutil"
   ]
  },
  {
   "cell_type": "code",
   "execution_count": 3,
   "id": "f32d0c3a",
   "metadata": {},
   "outputs": [],
   "source": [
    "path = r\"D:/Python Project/\""
   ]
  },
  {
   "cell_type": "code",
   "execution_count": 4,
   "id": "cb0b4c43",
   "metadata": {},
   "outputs": [],
   "source": [
    "#returning the files that are stores in the given path.\n",
    "\n",
    "file_name = os.listdir(path)\n",
    "\n",
    "#print(file_name)"
   ]
  },
  {
   "cell_type": "code",
   "execution_count": null,
   "id": "a761e848",
   "metadata": {},
   "outputs": [],
   "source": [
    "#checking the path that already exists or not.\n",
    "\n",
    "folder_names = ['csv files', 'excel files', 'images', 'text files', 'pdf files']\n",
    "folder_len = len(folder_names)\n",
    "#print(folder_len)\n",
    "\n",
    "for folders in range(folder_len):\n",
    "    if not os.path.exists(path + folder_names[folders]):\n",
    "        #print(path + folder_names[folders])\n",
    "        #creating paths if files are not exists\n",
    "        os.makedirs(path + folder_names[folders])\n",
    "        \n",
    "for file in file_name:\n",
    "    if '.csv' in file and not os.path.exists(path + 'csv files/' + file):\n",
    "        #moving csv's that are not in folders\n",
    "        shutil.move((path + file), (path + 'csv files/'))\n",
    "    elif '.xlsx' in file and not os.path.exists(path + 'excel files/' + file):\n",
    "        #moving excel sheets that are not in folders\n",
    "        shutil.move((path + file), (path + 'excel files/'))\n",
    "    elif ('.png' or '.jpg') in file and not os.path.exists(path + 'images/' + file):\n",
    "        #moving images that are not in folders\n",
    "        shutil.move((path + file), (path + 'images/'))\n",
    "    elif ('.txt') in file and not os.path.exists(path + 'text files/' + file):\n",
    "        #moving txt files that are not in folders\n",
    "        shutil.move((path + file), (path + 'text files/'))\n",
    "    elif ('.pdf') in file and not os.path.exists(path + 'pdf files/' + file):\n",
    "        #moving txt files that are not in folders\n",
    "        shutil.move((path + file), (path + 'pdf files/'))\n",
    "    else:\n",
    "        print('There are files in this path that were not moved!')"
   ]
  }
 ],
 "metadata": {
  "kernelspec": {
   "display_name": "Python 3 (ipykernel)",
   "language": "python",
   "name": "python3"
  },
  "language_info": {
   "codemirror_mode": {
    "name": "ipython",
    "version": 3
   },
   "file_extension": ".py",
   "mimetype": "text/x-python",
   "name": "python",
   "nbconvert_exporter": "python",
   "pygments_lexer": "ipython3",
   "version": "3.11.3"
  }
 },
 "nbformat": 4,
 "nbformat_minor": 5
}

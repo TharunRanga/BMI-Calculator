{
 "cells": [
  {
   "cell_type": "markdown",
   "id": "1e81fea8",
   "metadata": {},
   "source": [
    "# BMI CALCULATOR PROJECT"
   ]
  },
  {
   "cell_type": "code",
   "execution_count": 33,
   "id": "59736ed2",
   "metadata": {},
   "outputs": [],
   "source": [
    "#Body Mass Index (BMI) = (weight in pounds * 703) / (height in inches * height in inches)\n",
    "\n",
    "Under 18.5\tUnderweight\tMinimal\n",
    "18.5 - 24.9\tNormal Weight\tMinimal\n",
    "25 - 29.9\tOverweight\tIncreased\n",
    "30 - 34.9\tObese\tHigh\n",
    "35 - 39.9\tSeverely Obese\tVery High\n",
    "40 and over\tMorbidly Obese\tExtremely High"
   ]
  },
  {
   "cell_type": "code",
   "execution_count": null,
   "id": "b233b736",
   "metadata": {},
   "outputs": [],
   "source": [
    "name = input(\"Enter your name: \")\n",
    "\n",
    "weight = int(input(\"Enter your weight in pounds: \"))\n",
    "\n",
    "height = int(input(\"Enter your height in inches: \"))\n",
    "\n",
    "BMI = (weight * 703) / (height * height)\n",
    "\n",
    "print(BMI)\n",
    "\n",
    "if (BMI > 0 and BMI < 18.5):\n",
    "    print(name + \", You are Underweight. You need take good food.\")\n",
    "elif (BMI < 24.9):\n",
    "    print(name + \", You are Normal Weight. You are Under Control\")\n",
    "elif (BMI < 29.9):\n",
    "    print(name + \", You are Overweight. You need to Exercise 4 times a week.\")\n",
    "elif (BMI < 34.9):\n",
    "    print(name + \", You are Obese. You need to Exercise 6 times a week.\")\n",
    "elif (BMI < 39.9):\n",
    "    print(name + \", You are Severely Obese. You need to stop the junck food and head to GYM.\")\n",
    "elif (BMI > 40):\n",
    "    print(name + \", You are Morbidly Obese. You need to stop the junck food and head to GYM for 2 times a DAY.\")\n",
    "else:\n",
    "    print(\"Enter Valid Values\")"
   ]
  }
 ],
 "metadata": {
  "kernelspec": {
   "display_name": "Python 3 (ipykernel)",
   "language": "python",
   "name": "python3"
  },
  "language_info": {
   "codemirror_mode": {
    "name": "ipython",
    "version": 3
   },
   "file_extension": ".py",
   "mimetype": "text/x-python",
   "name": "python",
   "nbconvert_exporter": "python",
   "pygments_lexer": "ipython3",
   "version": "3.11.3"
  }
 },
 "nbformat": 4,
 "nbformat_minor": 5
}
